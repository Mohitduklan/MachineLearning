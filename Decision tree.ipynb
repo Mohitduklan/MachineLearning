{
 "cells": [
  {
   "cell_type": "code",
   "execution_count": 9,
   "id": "97d12b6b",
   "metadata": {},
   "outputs": [],
   "source": [
    "import numpy as np\n",
    "import seaborn as sns\n",
    "import pandas as pd\n",
    "from io import StringIO\n",
    "from collections import Counter"
   ]
  },
  {
   "cell_type": "code",
   "execution_count": 2,
   "id": "83b4d3fd",
   "metadata": {},
   "outputs": [],
   "source": [
    "classes = 10"
   ]
  },
  {
   "cell_type": "code",
   "execution_count": 3,
   "id": "c6715b17",
   "metadata": {},
   "outputs": [
    {
     "data": {
      "text/plain": [
       "<Axes: ylabel='count'>"
      ]
     },
     "execution_count": 3,
     "metadata": {},
     "output_type": "execute_result"
    },
    {
     "data": {
      "image/png": "[encoded data removed]",
      "text/plain": [
       "<Figure size 640x480 with 1 Axes>"
      ]
     },
     "metadata": {},
     "output_type": "display_data"
    }
   ],
   "source": [
    "all_data = []\n",
    "_ = [all_data.extend([i]*int(np.random.rand()*100)) for i in range(classes)]\n",
    "\n",
    "sns.countplot(x = all_data)"
   ]
  },
  {
   "cell_type": "code",
   "execution_count": 4,
   "id": "d9074a79",
   "metadata": {},
   "outputs": [],
   "source": [
    "from collections import Counter"
   ]
  },
  {
   "cell_type": "code",
   "execution_count": 5,
   "id": "357978b4",
   "metadata": {},
   "outputs": [],
   "source": [
    "frequency = Counter(all_data)\n",
    "probabilities = {i: j/len(all_data)\n",
    "                for i, j in frequency.items()}"
   ]
  },
  {
   "cell_type": "code",
   "execution_count": 6,
   "id": "9b8232b0",
   "metadata": {},
   "outputs": [
    {
     "data": {
      "text/plain": [
       "<Axes: >"
      ]
     },
     "execution_count": 6,
     "metadata": {},
     "output_type": "execute_result"
    },
    {
     "data": {
      "image/png": "[encoded data removed]",
      "text/plain": [
       "<Figure size 640x480 with 1 Axes>"
      ]
     },
     "metadata": {},
     "output_type": "display_data"
    }
   ],
   "source": [
    "sns.barplot(x = list(probabilities.keys()), y = list(probabilities.values()))"
   ]
  },
  {
   "cell_type": "markdown",
   "id": "a75a8d48",
   "metadata": {},
   "source": [
    "# Empurity measures"
   ]
  },
  {
   "cell_type": "code",
   "execution_count": 7,
   "id": "6ad896d1",
   "metadata": {},
   "outputs": [
    {
     "name": "stdout",
     "output_type": "stream",
     "text": [
      "0.8122605363984674\n"
     ]
    }
   ],
   "source": [
    "# classification_error = 1 - probabilities of correctly classified data points\n",
    "# Since we are predicting maximum frequency.\n",
    "# Random Examples\n",
    "classification_error = 1 - max(probabilities.values())\n",
    "print(classification_error)\n",
    "\n",
    "# In case of values are same and data is homogeneous, classification error will be 0."
   ]
  },
  {
   "cell_type": "code",
   "execution_count": 8,
   "id": "559b9560",
   "metadata": {},
   "outputs": [
    {
     "name": "stdout",
     "output_type": "stream",
     "text": [
      "0.862656155957781\n"
     ]
    }
   ],
   "source": [
    "# Gini Impurity = sum of (probabilities * (1 - probabilites))\n",
    "#  = sum(p*(1 - p))\n",
    "#  = sum(p - p**2)\n",
    "#  = sum(p) - sum(p**2)\n",
    "#  = 1 - sum(p**2) # :. sum of probabilities is 1\n",
    "gini_impurity = 1 - sum([p**2 for p in probabilities.values()])\n",
    "print(gini_impurity)"
   ]
  },
  {
   "cell_type": "code",
   "execution_count": 9,
   "id": "16854e27",
   "metadata": {},
   "outputs": [
    {
     "name": "stdout",
     "output_type": "stream",
     "text": [
      "3.0242338560591646\n"
     ]
    }
   ],
   "source": [
    "# Entropy = -sum(p * log(p))\n",
    "entropy = -sum([p*np.log2(p) for p in probabilities.values()])\n",
    "print(entropy)"
   ]
  },
  {
   "cell_type": "code",
   "execution_count": 10,
   "id": "c1441ff9",
   "metadata": {},
   "outputs": [],
   "source": [
    "# In all the measurement higher the value higher the impurity.  "
   ]
  },
  {
   "cell_type": "markdown",
   "id": "31d0052e",
   "metadata": {},
   "source": [
    "# Information gain"
   ]
  },
  {
   "cell_type": "code",
   "execution_count": 11,
   "id": "c7493de5",
   "metadata": {},
   "outputs": [],
   "source": [
    "# Information gain = Entropy before - Entropy after\n",
    "box = [0,0,1,1,2,2,3,4]"
   ]
  },
  {
   "cell_type": "code",
   "execution_count": 12,
   "id": "afcd9b73",
   "metadata": {},
   "outputs": [],
   "source": [
    "frequency = Counter(box)\n",
    "probabilities = {i: j/len(box)\n",
    "                for i, j in frequency.items()}"
   ]
  },
  {
   "cell_type": "code",
   "execution_count": 13,
   "id": "d4c8b988",
   "metadata": {},
   "outputs": [
    {
     "name": "stdout",
     "output_type": "stream",
     "text": [
      "2.25\n"
     ]
    }
   ],
   "source": [
    "# Entropy of box\n",
    "entropy = -sum([p*np.log2(p) for p in probabilities.values()])\n",
    "print(entropy)"
   ]
  },
  {
   "cell_type": "code",
   "execution_count": 14,
   "id": "2c77bf29",
   "metadata": {},
   "outputs": [
    {
     "data": {
      "text/plain": [
       "{0: 0.25, 1: 0.25, 2: 0.25, 3: 0.125, 4: 0.125}"
      ]
     },
     "execution_count": 14,
     "metadata": {},
     "output_type": "execute_result"
    }
   ],
   "source": [
    "probabilities"
   ]
  },
  {
   "cell_type": "code",
   "execution_count": 15,
   "id": "58e67f90",
   "metadata": {},
   "outputs": [],
   "source": [
    "# Splitting box\n",
    "box_a = [0,0]\n",
    "box_b = [1,1,2,2,3,4]\n",
    "\n",
    "frequency_a = Counter(box_a)\n",
    "probabilities_a = {i: j/len(box_a)\n",
    "                for i, j in frequency_a.items()}\n",
    "\n",
    "frequency_b = Counter(box_b)\n",
    "probabilities_b = {i: j/len(box_b)\n",
    "                for i, j in frequency_b.items()}\n"
   ]
  },
  {
   "cell_type": "code",
   "execution_count": 16,
   "id": "064bdf25",
   "metadata": {},
   "outputs": [
    {
     "name": "stdout",
     "output_type": "stream",
     "text": [
      "entropy_a -0.0\n",
      "entropy_b 1.9182958340544893\n",
      "total_entropy 1.438721875540867\n"
     ]
    }
   ],
   "source": [
    "entropy_a = -sum([p*np.log2(p) for p in probabilities_a.values()])\n",
    "print(\"entropy_a\", entropy_a)\n",
    "entropy_b = -sum([p*np.log2(p) for p in probabilities_b.values()])\n",
    "print(\"entropy_b\", entropy_b)\n",
    "\n",
    "weight_a = len(box_a)/len(box)\n",
    "weight_b = len(box_b)/len(box)\n",
    "\n",
    "total_entropy = weight_a*entropy_a + weight_b*entropy_b \n",
    "print(\"total_entropy\", total_entropy)"
   ]
  },
  {
   "cell_type": "code",
   "execution_count": 17,
   "id": "4985f25e",
   "metadata": {},
   "outputs": [
    {
     "name": "stdout",
     "output_type": "stream",
     "text": [
      "information_gain 0.8112781244591329\n"
     ]
    }
   ],
   "source": [
    "information_gain = entropy - total_entropy\n",
    "print(\"information_gain\", information_gain)"
   ]
  },
  {
   "cell_type": "markdown",
   "id": "41a8bdad",
   "metadata": {},
   "source": [
    "# Creating tree using real data"
   ]
  },
  {
   "cell_type": "code",
   "execution_count": 2,
   "id": "daea5fb7",
   "metadata": {},
   "outputs": [],
   "source": [
    "data = '''age,sex,bp,cholestrol,heart_disease\\n70,1,130,322,1\\n67,0,115,564,0\\n57,1,124,261,1\\n64,1,128,263,0\\n74,0,120,269,0\\n65,1,120,177,0\\n56,1,130,256,1\\n59,1,110,239,1\\n60,1,140,293,1\\n63,0,150,407,1\\n59,1,135,234,0\\n53,1,142,226,0\\n44,1,140,235,0\\n61,1,134,234,1\\n57,0,128,303,0\\n71,0,112,149,0\\n46,1,140,311,1\\n53,1,140,203,1\\n64,1,110,211,0\\n40,1,140,199,0\\n67,1,120,229,1\\n48,1,130,245,0\\n43,1,115,303,0\\n47,1,112,204,0\\n54,0,132,288,0\\n48,0,130,275,0\\n46,0,138,243,0\\n51,0,120,295,0\\n58,1,112,230,1\\n71,0,110,265,0\\n57,1,128,229,1\\n66,1,160,228,0\\n37,0,120,215,0\\n59,1,170,326,1\\n50,1,144,200,1\\n48,1,130,256,1\\n61,1,140,207,1\\n59,1,160,273,1\\n42,1,130,180,0\\n48,1,122,222,0\\n40,1,152,223,1\\n62,0,124,209,0\\n44,1,130,233,0\\n46,1,101,197,0\\n59,1,126,218,1\\n58,1,140,211,0\\n49,1,118,149,1\\n44,1,110,197,1\\n66,1,160,246,1\\n65,0,150,225,1\\n42,1,136,315,1\\n52,1,128,205,0\\n65,0,140,417,0\\n63,0,140,195,0\\n45,0,130,234,0\\n41,0,105,198,0\\n61,1,138,166,1\\n60,0,120,178,0\\n59,0,174,249,1\\n62,1,120,281,1\\n57,1,150,126,0\\n51,0,130,305,1\\n44,1,120,226,0\\n60,0,150,240,0\\n63,1,145,233,0\\n57,1,150,276,1\\n51,1,140,261,0\\n58,0,136,319,1\\n44,0,118,242,0\\n47,1,108,243,1\\n61,1,120,260,1\\n57,0,120,354,0\\n70,1,156,245,0\\n76,0,140,197,0\\n67,0,106,223,0\\n45,1,142,309,1\\n45,1,104,208,0\\n39,0,94,199,0\\n42,0,120,209,0\\n56,1,120,236,0\\n58,1,146,218,1\\n35,1,120,198,1\\n58,1,150,270,1\\n41,1,130,214,0\\n57,1,110,201,0\\n42,1,148,244,0\\n62,1,128,208,0\\n59,1,178,270,0\\n41,0,126,306,0\\n50,1,150,243,1\\n59,1,140,221,0\\n61,0,130,330,1\\n54,1,124,266,1\\n54,1,110,206,1\\n52,1,125,212,1\\n47,1,110,275,1\\n66,1,120,302,0\\n58,1,100,234,1\\n64,0,140,313,0\\n50,0,120,244,0\\n44,0,108,141,0\\n67,1,120,237,1\\n49,0,130,269,0\\n57,1,165,289,1\\n63,1,130,254,1\\n48,1,124,274,1\\n51,1,100,222,0\\n60,0,150,258,1\\n59,1,140,177,1\\n45,0,112,160,0\\n55,0,180,327,1\\n41,1,110,235,0\\n60,0,158,305,1\\n54,0,135,304,0\\n42,1,120,295,0\\n49,0,134,271,0\\n46,1,120,249,1\\n56,0,200,288,1\\n66,0,150,226,0\\n56,1,130,283,1\\n49,1,120,188,1\\n54,1,122,286,1\\n57,1,152,274,1\\n65,0,160,360,0\\n54,1,125,273,0\\n54,0,160,201,0\\n62,1,120,267,1\\n52,0,136,196,0\\n52,1,134,201,0\\n60,1,117,230,1\\n63,0,108,269,1\\n66,1,112,212,1\\n42,1,140,226,0\\n64,1,120,246,1\\n54,1,150,232,0\\n46,0,142,177,0\\n67,0,152,277,0\\n56,1,125,249,1\\n34,0,118,210,0\\n57,1,132,207,0\\n64,1,145,212,1\\n59,1,138,271,0\\n50,1,140,233,1\\n51,1,125,213,0\\n54,1,192,283,1\\n53,1,123,282,1\\n52,1,112,230,1\\n40,1,110,167,1\\n58,1,132,224,1\\n41,0,112,268,0\\n41,1,112,250,0\\n50,0,120,219,0\\n54,0,108,267,0\\n64,0,130,303,0\\n51,0,130,256,0\\n46,0,105,204,0\\n55,1,140,217,1\\n45,1,128,308,0\\n56,1,120,193,0\\n66,0,178,228,1\\n38,1,120,231,1\\n62,0,150,244,1\\n55,1,130,262,0\\n58,1,128,259,1\\n43,1,110,211,0\\n64,0,180,325,0\\n50,0,110,254,0\\n53,1,130,197,0\\n45,0,138,236,0\\n65,1,138,282,1\\n69,1,160,234,0\\n69,1,140,254,1\\n67,1,100,299,1\\n68,0,120,211,0\\n34,1,118,182,0\\n62,0,138,294,1\\n51,1,140,298,1\\n46,1,150,231,1\\n67,1,125,254,1\\n50,1,129,196,0\\n42,1,120,240,0\\n56,0,134,409,1\\n41,1,110,172,1\\n42,0,102,265,0\\n53,1,130,246,0\\n43,1,130,315,0\\n56,1,132,184,1\\n52,1,108,233,0\\n62,0,140,394,0\\n70,1,160,269,1\\n54,1,140,239,0\\n70,1,145,174,1\\n54,1,108,309,0\\n35,1,126,282,1\\n48,1,124,255,0\\n55,0,135,250,0\\n58,0,100,248,0\\n54,0,110,214,0\\n69,0,140,239,0\\n77,1,125,304,1\\n68,1,118,277,0\\n58,1,125,300,1\\n60,1,125,258,1\\n51,1,140,299,1\\n55,1,160,289,1\\n52,1,152,298,0\\n60,0,102,318,0\\n58,1,105,240,0\\n64,1,125,309,1\\n37,1,130,250,0\\n59,1,170,288,1\\n51,1,125,245,0\\n43,0,122,213,0\\n58,1,128,216,1\\n29,1,130,204,0\\n41,0,130,204,0\\n63,0,135,252,0\\n51,1,94,227,0\\n54,1,120,258,0\\n44,1,120,220,0\\n54,1,110,239,1\\n65,1,135,254,1\\n57,1,150,168,0\\n63,1,130,330,1\\n35,0,138,183,0\\n41,1,135,203,0\\n62,0,130,263,1\\n43,0,132,341,1\\n58,0,150,283,0\\n52,1,118,186,0\\n61,0,145,307,1\\n39,1,118,219,1\\n45,1,115,260,0\\n52,1,128,255,1\\n62,1,130,231,0\\n62,0,160,164,1\\n53,0,138,234,0\\n43,1,120,177,1\\n47,1,138,257,0\\n52,1,120,325,0\\n68,1,180,274,1\\n39,1,140,321,0\\n53,0,130,264,0\\n62,0,140,268,1\\n51,0,140,308,0\\n60,1,130,253,1\\n65,1,110,248,1\\n65,0,155,269,0\\n60,1,140,185,1\\n60,1,145,282,1\\n54,1,120,188,1\\n44,1,130,219,0\\n44,1,112,290,1\\n51,1,110,175,0\\n59,1,150,212,0\\n71,0,160,302,0\\n61,1,150,243,0\\n55,1,132,353,1\\n64,1,140,335,1\\n43,1,150,247,0\\n58,0,120,340,0\\n60,1,130,206,1\\n58,1,120,284,1\\n49,1,130,266,0\\n48,1,110,229,1\\n52,1,172,199,0\\n44,1,120,263,0\\n56,0,140,294,0\\n57,1,140,192,0\\n67,1,160,286,1'''"
   ]
  },
  {
   "cell_type": "code",
   "execution_count": 30,
   "id": "3721e013",
   "metadata": {},
   "outputs": [],
   "source": [
    "def get_prob(box):\n",
    "    frequency = Counter(box)\n",
    "    probabilities = {i: j/len(box)\n",
    "                for i, j in frequency.items()}\n",
    "    return probabilities\n"
   ]
  },
  {
   "cell_type": "code",
   "execution_count": 31,
   "id": "bde40dc9",
   "metadata": {},
   "outputs": [],
   "source": [
    "def get_entropy(probabilities):\n",
    "    return -sum([p*np.log2(p) for p in probabilities.values()])"
   ]
  },
  {
   "cell_type": "code",
   "execution_count": 32,
   "id": "5f14cd2d",
   "metadata": {},
   "outputs": [],
   "source": [
    "df = pd.read_csv(StringIO(data))\n",
    "df = df.iloc[:10, :]"
   ]
  },
  {
   "cell_type": "code",
   "execution_count": 33,
   "id": "a474c3a5",
   "metadata": {},
   "outputs": [
    {
     "data": {
      "text/html": [
       "<div>\n",
       "<style scoped>\n",
       "    .dataframe tbody tr th:only-of-type {\n",
       "        vertical-align: middle;\n",
       "    }\n",
       "\n",
       "    .dataframe tbody tr th {\n",
       "        vertical-align: top;\n",
       "    }\n",
       "\n",
       "    .dataframe thead th {\n",
       "        text-align: right;\n",
       "    }\n",
       "</style>\n",
       "<table border=\"1\" class=\"dataframe\">\n",
       "  <thead>\n",
       "    <tr style=\"text-align: right;\">\n",
       "      <th></th>\n",
       "      <th>age</th>\n",
       "      <th>sex</th>\n",
       "      <th>bp</th>\n",
       "      <th>cholestrol</th>\n",
       "      <th>heart_disease</th>\n",
       "    </tr>\n",
       "  </thead>\n",
       "  <tbody>\n",
       "    <tr>\n",
       "      <th>0</th>\n",
       "      <td>70</td>\n",
       "      <td>1</td>\n",
       "      <td>130</td>\n",
       "      <td>322</td>\n",
       "      <td>1</td>\n",
       "    </tr>\n",
       "    <tr>\n",
       "      <th>1</th>\n",
       "      <td>67</td>\n",
       "      <td>0</td>\n",
       "      <td>115</td>\n",
       "      <td>564</td>\n",
       "      <td>0</td>\n",
       "    </tr>\n",
       "    <tr>\n",
       "      <th>2</th>\n",
       "      <td>57</td>\n",
       "      <td>1</td>\n",
       "      <td>124</td>\n",
       "      <td>261</td>\n",
       "      <td>1</td>\n",
       "    </tr>\n",
       "    <tr>\n",
       "      <th>3</th>\n",
       "      <td>64</td>\n",
       "      <td>1</td>\n",
       "      <td>128</td>\n",
       "      <td>263</td>\n",
       "      <td>0</td>\n",
       "    </tr>\n",
       "    <tr>\n",
       "      <th>4</th>\n",
       "      <td>74</td>\n",
       "      <td>0</td>\n",
       "      <td>120</td>\n",
       "      <td>269</td>\n",
       "      <td>0</td>\n",
       "    </tr>\n",
       "    <tr>\n",
       "      <th>5</th>\n",
       "      <td>65</td>\n",
       "      <td>1</td>\n",
       "      <td>120</td>\n",
       "      <td>177</td>\n",
       "      <td>0</td>\n",
       "    </tr>\n",
       "    <tr>\n",
       "      <th>6</th>\n",
       "      <td>56</td>\n",
       "      <td>1</td>\n",
       "      <td>130</td>\n",
       "      <td>256</td>\n",
       "      <td>1</td>\n",
       "    </tr>\n",
       "    <tr>\n",
       "      <th>7</th>\n",
       "      <td>59</td>\n",
       "      <td>1</td>\n",
       "      <td>110</td>\n",
       "      <td>239</td>\n",
       "      <td>1</td>\n",
       "    </tr>\n",
       "    <tr>\n",
       "      <th>8</th>\n",
       "      <td>60</td>\n",
       "      <td>1</td>\n",
       "      <td>140</td>\n",
       "      <td>293</td>\n",
       "      <td>1</td>\n",
       "    </tr>\n",
       "    <tr>\n",
       "      <th>9</th>\n",
       "      <td>63</td>\n",
       "      <td>0</td>\n",
       "      <td>150</td>\n",
       "      <td>407</td>\n",
       "      <td>1</td>\n",
       "    </tr>\n",
       "  </tbody>\n",
       "</table>\n",
       "</div>"
      ],
      "text/plain": [
       "   age  sex   bp  cholestrol  heart_disease\n",
       "0   70    1  130         322              1\n",
       "1   67    0  115         564              0\n",
       "2   57    1  124         261              1\n",
       "3   64    1  128         263              0\n",
       "4   74    0  120         269              0\n",
       "5   65    1  120         177              0\n",
       "6   56    1  130         256              1\n",
       "7   59    1  110         239              1\n",
       "8   60    1  140         293              1\n",
       "9   63    0  150         407              1"
      ]
     },
     "execution_count": 33,
     "metadata": {},
     "output_type": "execute_result"
    }
   ],
   "source": [
    "df"
   ]
  },
  {
   "cell_type": "code",
   "execution_count": 34,
   "id": "fd7f5142",
   "metadata": {},
   "outputs": [
    {
     "data": {
      "text/plain": [
       "age              int64\n",
       "sex              int64\n",
       "bp               int64\n",
       "cholestrol       int64\n",
       "heart_disease    int64\n",
       "dtype: object"
      ]
     },
     "execution_count": 34,
     "metadata": {},
     "output_type": "execute_result"
    }
   ],
   "source": [
    "df.dtypes"
   ]
  },
  {
   "cell_type": "code",
   "execution_count": 35,
   "id": "2231bcbc",
   "metadata": {},
   "outputs": [
    {
     "name": "stdout",
     "output_type": "stream",
     "text": [
      "probabilities {1: 0.6, 0: 0.4}\n",
      "entropy 0.971\n"
     ]
    }
   ],
   "source": [
    "probabilities = get_prob(df.heart_disease)\n",
    "print(\"probabilities\", probabilities)\n",
    "\n",
    "entropy = get_entropy(probabilities)\n",
    "print(\"entropy\", round(entropy, 3))"
   ]
  },
  {
   "cell_type": "markdown",
   "id": "432520bc",
   "metadata": {},
   "source": [
    "Making split"
   ]
  },
  {
   "cell_type": "code",
   "execution_count": 39,
   "id": "99b7a3ae",
   "metadata": {},
   "outputs": [],
   "source": [
    "def get_information_gain(df, column, value):\n",
    "    df1 = df[df[column] <= value]\n",
    "    df2 = df[df[column] > value]\n",
    "    df1_probablities = get_prob(df1.heart_disease)\n",
    "#     print(f\"Probabilities of df1_probablities:\",df1_probablities)\n",
    "    df1_entropy = get_entropy(df1_probablities)\n",
    "#     print(f\"Entropy of df1_entropy: {df1_entropy: 50}\")\n",
    "\n",
    "    df2_probablities = get_prob(df2.heart_disease)\n",
    "#     print(f\"Probabilities of df2_probablities:\",df2_probablities)\n",
    "    df2_entropy = get_entropy(df2_probablities)\n",
    "#     print(f\"Entropy of df2_entropy: {df2_entropy: 50}\")\n",
    "\n",
    "    weight_d1 = len(df1) / len(df)\n",
    "    weight_d2 = len(df2) / len(df)\n",
    "    print(\"Split d1 entropy: \", df1_entropy)\n",
    "    print(\"Split d2 entropy: \", df2_entropy)\n",
    "    \n",
    "    entropy_d1_d2 = weight_d1*df1_entropy + weight_d2*df2_entropy\n",
    "    print(f\"Entropy after split {column} at {value}: \", entropy_d1_d2)\n",
    "    information_gain = entropy - entropy_d1_d2\n",
    "    return information_gain"
   ]
  },
  {
   "cell_type": "code",
   "execution_count": 40,
   "id": "a4b724e8",
   "metadata": {},
   "outputs": [],
   "source": [
    "# lets define some values at which we will split columns\n",
    "define_split = {\n",
    "    \"sex\": df.sex.mean(),\n",
    "    \"age\": df.age.mean(),\n",
    "    \"cholestrol\": df.cholestrol.mean(),\n",
    "    \"bp\": df.bp.mean()\n",
    "}"
   ]
  },
  {
   "cell_type": "code",
   "execution_count": 41,
   "id": "ff5e47ce",
   "metadata": {},
   "outputs": [
    {
     "name": "stdout",
     "output_type": "stream",
     "text": [
      "Split d1 entropy:  0.9182958340544896\n",
      "Split d2 entropy:  0.863120568566631\n",
      "Entropy after split sex at 0.7:  0.8796731482129885\n",
      "Split d1 entropy:  -0.0\n",
      "Split d2 entropy:  0.7219280948873623\n",
      "Entropy after split age at 63.5:  0.36096404744368116\n",
      "Split d1 entropy:  0.9852281360342515\n",
      "Split d2 entropy:  0.9182958340544896\n",
      "Entropy after split cholestrol at 305.1:  0.965148445440323\n",
      "Split d1 entropy:  0.9709505944546686\n",
      "Split d2 entropy:  0.7219280948873623\n",
      "Entropy after split bp at 126.7:  0.8464393446710154\n",
      "{'sex': 0.0912774462416801, 'age': 0.6099865470109874, 'cholestrol': 0.0058021490143456145, 'bp': 0.12451124978365313}\n"
     ]
    }
   ],
   "source": [
    "information_gains = {\n",
    "    col: get_information_gain(df, col, val)\n",
    "    for col, val in define_split.items()\n",
    "}\n",
    "print(information_gains)"
   ]
  },
  {
   "cell_type": "code",
   "execution_count": 42,
   "id": "f00e8566",
   "metadata": {},
   "outputs": [
    {
     "name": "stdout",
     "output_type": "stream",
     "text": [
      "age\n"
     ]
    }
   ],
   "source": [
    "split_col = list(information_gains)[np.argmax(list(information_gains.values()))]\n",
    "print(split_col)"
   ]
  },
  {
   "cell_type": "code",
   "execution_count": null,
   "id": "511ca9f6",
   "metadata": {},
   "outputs": [],
   "source": []
  },
  {
   "cell_type": "markdown",
   "id": "84662733",
   "metadata": {},
   "source": [
    "# Using sklearn"
   ]
  },
  {
   "cell_type": "code",
   "execution_count": 43,
   "id": "14729ecc",
   "metadata": {},
   "outputs": [],
   "source": [
    "from sklearn.tree import DecisionTreeClassifier, plot_tree\n",
    "import matplotlib.pyplot as plt"
   ]
  },
  {
   "cell_type": "code",
   "execution_count": 167,
   "id": "3c12fc6a",
   "metadata": {},
   "outputs": [],
   "source": [
    "dtc = DecisionTreeClassifier(criterion='entropy', max_depth=4, min_samples_split=5, min_samples_leaf=3, )"
   ]
  },
  {
   "cell_type": "code",
   "execution_count": 168,
   "id": "ab710ce1",
   "metadata": {},
   "outputs": [
    {
     "data": {
      "text/html": [
       "<style>#sk-container-id-10 {color: black;background-color: white;}#sk-container-id-10 pre{padding: 0;}#sk-container-id-10 div.sk-toggleable {background-color: white;}#sk-container-id-10 label.sk-toggleable__label {cursor: pointer;display: block;width: 100%;margin-bottom: 0;padding: 0.3em;box-sizing: border-box;text-align: center;}#sk-container-id-10 label.sk-toggleable__label-arrow:before {content: \"▸\";float: left;margin-right: 0.25em;color: #696969;}#sk-container-id-10 label.sk-toggleable__label-arrow:hover:before {color: black;}#sk-container-id-10 div.sk-estimator:hover label.sk-toggleable__label-arrow:before {color: black;}#sk-container-id-10 div.sk-toggleable__content {max-height: 0;max-width: 0;overflow: hidden;text-align: left;background-color: #f0f8ff;}#sk-container-id-10 div.sk-toggleable__content pre {margin: 0.2em;color: black;border-radius: 0.25em;background-color: #f0f8ff;}#sk-container-id-10 input.sk-toggleable__control:checked~div.sk-toggleable__content {max-height: 200px;max-width: 100%;overflow: auto;}#sk-container-id-10 input.sk-toggleable__control:checked~label.sk-toggleable__label-arrow:before {content: \"▾\";}#sk-container-id-10 div.sk-estimator input.sk-toggleable__control:checked~label.sk-toggleable__label {background-color: #d4ebff;}#sk-container-id-10 div.sk-label input.sk-toggleable__control:checked~label.sk-toggleable__label {background-color: #d4ebff;}#sk-container-id-10 input.sk-hidden--visually {border: 0;clip: rect(1px 1px 1px 1px);clip: rect(1px, 1px, 1px, 1px);height: 1px;margin: -1px;overflow: hidden;padding: 0;position: absolute;width: 1px;}#sk-container-id-10 div.sk-estimator {font-family: monospace;background-color: #f0f8ff;border: 1px dotted black;border-radius: 0.25em;box-sizing: border-box;margin-bottom: 0.5em;}#sk-container-id-10 div.sk-estimator:hover {background-color: #d4ebff;}#sk-container-id-10 div.sk-parallel-item::after {content: \"\";width: 100%;border-bottom: 1px solid gray;flex-grow: 1;}#sk-container-id-10 div.sk-label:hover label.sk-toggleable__label {background-color: #d4ebff;}#sk-container-id-10 div.sk-serial::before {content: \"\";position: absolute;border-left: 1px solid gray;box-sizing: border-box;top: 0;bottom: 0;left: 50%;z-index: 0;}#sk-container-id-10 div.sk-serial {display: flex;flex-direction: column;align-items: center;background-color: white;padding-right: 0.2em;padding-left: 0.2em;position: relative;}#sk-container-id-10 div.sk-item {position: relative;z-index: 1;}#sk-container-id-10 div.sk-parallel {display: flex;align-items: stretch;justify-content: center;background-color: white;position: relative;}#sk-container-id-10 div.sk-item::before, #sk-container-id-10 div.sk-parallel-item::before {content: \"\";position: absolute;border-left: 1px solid gray;box-sizing: border-box;top: 0;bottom: 0;left: 50%;z-index: -1;}#sk-container-id-10 div.sk-parallel-item {display: flex;flex-direction: column;z-index: 1;position: relative;background-color: white;}#sk-container-id-10 div.sk-parallel-item:first-child::after {align-self: flex-end;width: 50%;}#sk-container-id-10 div.sk-parallel-item:last-child::after {align-self: flex-start;width: 50%;}#sk-container-id-10 div.sk-parallel-item:only-child::after {width: 0;}#sk-container-id-10 div.sk-dashed-wrapped {border: 1px dashed gray;margin: 0 0.4em 0.5em 0.4em;box-sizing: border-box;padding-bottom: 0.4em;background-color: white;}#sk-container-id-10 div.sk-label label {font-family: monospace;font-weight: bold;display: inline-block;line-height: 1.2em;}#sk-container-id-10 div.sk-label-container {text-align: center;}#sk-container-id-10 div.sk-container {/* jupyter's `normalize.less` sets `[hidden] { display: none; }` but bootstrap.min.css set `[hidden] { display: none !important; }` so we also need the `!important` here to be able to override the default hidden behavior on the sphinx rendered scikit-learn.org. See: https://github.com/scikit-learn/scikit-learn/issues/21755 */display: inline-block !important;position: relative;}#sk-container-id-10 div.sk-text-repr-fallback {display: none;}</style><div id=\"sk-container-id-10\" class=\"sk-top-container\"><div class=\"sk-text-repr-fallback\"><pre>DecisionTreeClassifier(criterion=&#x27;entropy&#x27;, max_depth=4, min_samples_leaf=3,\n",
       "                       min_samples_split=5)</pre><b>In a Jupyter environment, please rerun this cell to show the HTML representation or trust the notebook. <br />On GitHub, the HTML representation is unable to render, please try loading this page with nbviewer.org.</b></div><div class=\"sk-container\" hidden><div class=\"sk-item\"><div class=\"sk-estimator sk-toggleable\"><input class=\"sk-toggleable__control sk-hidden--visually\" id=\"sk-estimator-id-10\" type=\"checkbox\" checked><label for=\"sk-estimator-id-10\" class=\"sk-toggleable__label sk-toggleable__label-arrow\">DecisionTreeClassifier</label><div class=\"sk-toggleable__content\"><pre>DecisionTreeClassifier(criterion=&#x27;entropy&#x27;, max_depth=4, min_samples_leaf=3,\n",
       "                       min_samples_split=5)</pre></div></div></div></div></div>"
      ],
      "text/plain": [
       "DecisionTreeClassifier(criterion='entropy', max_depth=4, min_samples_leaf=3,\n",
       "                       min_samples_split=5)"
      ]
     },
     "execution_count": 168,
     "metadata": {},
     "output_type": "execute_result"
    }
   ],
   "source": [
    "dtc.fit(X = df.iloc[:, :-1], y = df.iloc[:, -1:])"
   ]
  },
  {
   "cell_type": "code",
   "execution_count": 44,
   "id": "f0903d2c",
   "metadata": {},
   "outputs": [
    {
     "ename": "NameError",
     "evalue": "name 'dtc' is not defined",
     "output_type": "error",
     "traceback": [
      "\u001b[1;31m---------------------------------------------------------------------------\u001b[0m",
      "\u001b[1;31mNameError\u001b[0m                                 Traceback (most recent call last)",
      "Cell \u001b[1;32mIn[44], line 2\u001b[0m\n\u001b[0;32m      1\u001b[0m plt\u001b[38;5;241m.\u001b[39mfigure(figsize\u001b[38;5;241m=\u001b[39m(\u001b[38;5;241m60\u001b[39m,\u001b[38;5;241m30\u001b[39m))\n\u001b[1;32m----> 2\u001b[0m plot_tree(\u001b[43mdtc\u001b[49m, feature_names \u001b[38;5;241m=\u001b[39m df\u001b[38;5;241m.\u001b[39mcolumns,class_names\u001b[38;5;241m=\u001b[39m[\u001b[38;5;124m'\u001b[39m\u001b[38;5;124mLoss\u001b[39m\u001b[38;5;124m'\u001b[39m, \u001b[38;5;124m'\u001b[39m\u001b[38;5;124mProfit\u001b[39m\u001b[38;5;124m'\u001b[39m],filled\u001b[38;5;241m=\u001b[39m\u001b[38;5;28;01mTrue\u001b[39;00m);\n",
      "\u001b[1;31mNameError\u001b[0m: name 'dtc' is not defined"
     ]
    },
    {
     "data": {
      "text/plain": [
       "<Figure size 6000x3000 with 0 Axes>"
      ]
     },
     "metadata": {},
     "output_type": "display_data"
    }
   ],
   "source": [
    "plt.figure(figsize=(60,30))\n",
    "plot_tree(dtc, feature_names = df.columns,class_names=['No Disease', \"Disease\"],filled=True);"
   ]
  },
  {
   "cell_type": "code",
   "execution_count": null,
   "id": "a1233b6b",
   "metadata": {},
   "outputs": [],
   "source": []
  }
 ],
 "metadata": {
  "kernelspec": {
   "display_name": "Python 3 (ipykernel)",
   "language": "python",
   "name": "python3"
  },
  "language_info": {
   "codemirror_mode": {
    "name": "ipython",
    "version": 3
   },
   "file_extension": ".py",
   "mimetype": "text/x-python",
   "name": "python",
   "nbconvert_exporter": "python",
   "pygments_lexer": "ipython3",
   "version": "3.10.10"
  }
 },
 "nbformat": 4,
 "nbformat_minor": 5
}
